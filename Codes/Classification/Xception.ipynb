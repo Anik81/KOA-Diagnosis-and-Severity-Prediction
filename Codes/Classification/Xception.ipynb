{
  "cells": [
    {
      "cell_type": "code",
      "execution_count": null,
      "metadata": {
        "colab": {
          "base_uri": "https://localhost:8080/"
        },
        "id": "t23Ovd46KR9P",
        "outputId": "4872ab9b-ee70-4cd1-e12c-4efade965e07"
      },
      "outputs": [
        {
          "name": "stdout",
          "output_type": "stream",
          "text": [
            "Mounted at /content/drive\n"
          ]
        }
      ],
      "source": [
        "from google.colab import drive\n",
        "drive.mount('/content/drive')\n",
        "\n",
        "import zipfile\n",
        "import shutil"
      ]
    },
    {
      "cell_type": "code",
      "execution_count": null,
      "metadata": {
        "id": "XVpKKBfIKoMe"
      },
      "outputs": [],
      "source": [
        "import cv2\n",
        "import os\n",
        "import numpy as np\n",
        "import matplotlib.pyplot as plt\n",
        "import pandas as pd\n",
        "from skimage.restoration import denoise_nl_means, estimate_sigma"
      ]
    },
    {
      "cell_type": "code",
      "execution_count": null,
      "metadata": {
        "id": "Y354m2sCKpN-"
      },
      "outputs": [],
      "source": [
        "import numpy as np\n",
        "import pandas as pd\n",
        "import os\n",
        "os.environ['TF_CPP_MIN_LOG_LEVEL'] = '2'\n",
        "import time\n",
        "import matplotlib.pyplot as plt\n",
        "import cv2\n",
        "import seaborn as sns\n",
        "sns.set_style('darkgrid')\n",
        "import shutil\n",
        "from sklearn.metrics import confusion_matrix, classification_report\n",
        "from sklearn.model_selection import train_test_split\n",
        "from skimage import exposure\n",
        "from skimage.restoration import denoise_wavelet\n",
        "import tensorflow as tf\n",
        "from tensorflow import keras\n",
        "from tensorflow.keras.preprocessing.image import ImageDataGenerator\n",
        "from tensorflow.keras.layers import Dense, Activation,Dropout,Conv2D, MaxPooling2D,BatchNormalization\n",
        "from tensorflow.keras.optimizers import Adam, Adamax\n",
        "from tensorflow.keras.metrics import categorical_crossentropy\n",
        "from tensorflow.keras import regularizers\n",
        "from tensorflow.keras.models import Model\n",
        "from tensorflow.keras import backend as K\n",
        "import time"
      ]
    },
    {
      "cell_type": "markdown",
      "metadata": {
        "id": "gXucUxvU7wkO"
      },
      "source": [
        "# **KOA Severity Prediction**"
      ]
    },
    {
      "cell_type": "code",
      "execution_count": null,
      "metadata": {
        "colab": {
          "base_uri": "https://localhost:8080/"
        },
        "id": "eJhnamvOM9lQ",
        "outputId": "5c2cc037-395a-460b-efc1-197e78e3b3ba"
      },
      "outputs": [
        {
          "name": "stdout",
          "output_type": "stream",
          "text": [
            "train_df lenght:  5778   test_df length:  1656   valid_df length:  826\n",
            "The number of classes in the dataset is:  5\n",
            "            CLASS               IMAGE COUNT \n",
            "           Doubtful                1046     \n",
            "           Healthy                 2286     \n",
            "           Minimal                 1516     \n",
            "           Moderate                 757     \n",
            "            Severe                  173     \n",
            "Healthy  has the most images=  2286   Severe  has the least images=  173\n"
          ]
        }
      ],
      "source": [
        "train_path=r'/content/drive/MyDrive/Knee_Osteoarthritis_Dataset_Preprocessed/train'\n",
        "test_path=r'/content/drive/MyDrive/Knee_Osteoarthritis_Dataset_Preprocessed/test'\n",
        "valid_path=r'/content/drive/MyDrive/Knee_Osteoarthritis_Dataset_Preprocessed/validation'\n",
        "list_of_classes=['Healthy', 'Doubtful', 'Minimal', 'Moderate', 'Severe']\n",
        "for d in [train_path, test_path, valid_path]:\n",
        "    filepaths = []\n",
        "    labels=[]\n",
        "    classlist=os.listdir(d)\n",
        "    for klass in classlist:\n",
        "        intklass=int(klass)\n",
        "        label=list_of_classes[intklass]\n",
        "        classpath=os.path.join(d, klass)\n",
        "        flist=os.listdir(classpath)\n",
        "        for f in flist:\n",
        "            fpath=os.path.join(classpath,f)\n",
        "            filepaths.append(fpath)\n",
        "            labels.append(label)\n",
        "    Fseries=pd.Series(filepaths, name='filepaths')\n",
        "    Lseries=pd.Series(labels, name='labels')\n",
        "    pdf=pd.concat([Fseries, Lseries], axis=1)\n",
        "    if d == test_path:\n",
        "        test_df=pdf\n",
        "    elif d == valid_path:\n",
        "        valid_df=pdf\n",
        "    else:\n",
        "        train_df=pdf\n",
        "print('train_df lenght: ', len(train_df), '  test_df length: ', len(test_df), '  valid_df length: ', len(valid_df))\n",
        "# get the number of classes and the images count for each class in train_df\n",
        "classes=sorted(list(train_df['labels'].unique()))\n",
        "class_count = len(classes)\n",
        "print('The number of classes in the dataset is: ', class_count)\n",
        "groups=train_df.groupby('labels')\n",
        "print('{0:^30s} {1:^13s}'.format('CLASS', 'IMAGE COUNT'))\n",
        "countlist=[]\n",
        "classlist=[]\n",
        "for label in sorted(list(train_df['labels'].unique())):\n",
        "    group=groups.get_group(label)\n",
        "    countlist.append(len(group))\n",
        "    classlist.append(label)\n",
        "    print('{0:^30s} {1:^13s}'.format(label, str(len(group))))\n",
        "\n",
        "# get the classes with the minimum and maximum number of train images\n",
        "max_value=np.max(countlist)\n",
        "max_index=countlist.index(max_value)\n",
        "max_class=classlist[max_index]\n",
        "min_value=np.min(countlist)\n",
        "min_index=countlist.index(min_value)\n",
        "min_class=classlist[min_index]\n",
        "print(max_class, ' has the most images= ',max_value, ' ', min_class, ' has the least images= ', min_value)\n"
      ]
    },
    {
      "cell_type": "code",
      "execution_count": null,
      "metadata": {
        "colab": {
          "base_uri": "https://localhost:8080/"
        },
        "id": "y93H1TrANkee",
        "outputId": "34d18ca9-ef06-45f6-ab03-520dc624c079"
      },
      "outputs": [
        {
          "name": "stdout",
          "output_type": "stream",
          "text": [
            "Healthy 2286\n",
            "Moderate 757\n",
            "Severe 173\n"
          ]
        }
      ],
      "source": [
        "drop_classes = ['Doubtful', 'Minimal']\n",
        "\n",
        "train_df = train_df[~train_df['labels'].isin(drop_classes)]\n",
        "valid_df = valid_df[~valid_df['labels'].isin(drop_classes)]\n",
        "test_df = test_df[~test_df['labels'].isin(drop_classes)]\n",
        "\n",
        "# Update the list of classes\n",
        "list_of_classes = [c for c in list_of_classes if c not in drop_classes]\n",
        "\n",
        "# Re-calculate the total classes\n",
        "class_count = len(list_of_classes)\n",
        "\n",
        "# Re-count the images per class\n",
        "groups = train_df.groupby('labels')\n",
        "for label in list_of_classes:\n",
        "    group = groups.get_group(label)\n",
        "    print(label, len(group))"
      ]
    },
    {
      "cell_type": "code",
      "execution_count": null,
      "metadata": {
        "colab": {
          "base_uri": "https://localhost:8080/"
        },
        "id": "PLpBUIykNrTe",
        "outputId": "f1914e7b-4ece-4b94-b043-6a479baaeefd"
      },
      "outputs": [
        {
          "name": "stdout",
          "output_type": "stream",
          "text": [
            "Initial length of dataframe is  3216\n",
            "Found 2286 validated image filenames.\n",
            "Found 173 validated image filenames.\n",
            "Found 757 validated image filenames.\n",
            "Total Augmented images created=  4284\n",
            "Length of augmented dataframe is now  7500\n"
          ]
        }
      ],
      "source": [
        "def balance(df, n, working_dir, img_size):\n",
        "    df=df.copy()\n",
        "    print('Initial length of dataframe is ', len(df))\n",
        "    aug_dir=os.path.join(working_dir, 'aug')# directory to store augmented images\n",
        "    if os.path.isdir(aug_dir):# start with an empty directory\n",
        "        shutil.rmtree(aug_dir)\n",
        "    os.mkdir(aug_dir)\n",
        "    for label in df['labels'].unique():\n",
        "        dir_path=os.path.join(aug_dir,label)\n",
        "        os.mkdir(dir_path) # make class directories within aug directory\n",
        "    # create and store the augmented images\n",
        "    total=0\n",
        "    gen=ImageDataGenerator(horizontal_flip=True,  rotation_range=20, width_shift_range=.2,\n",
        "                                  height_shift_range=.2, zoom_range=.2)\n",
        "    groups=df.groupby('labels') # group by class\n",
        "    for label in df['labels'].unique():  # for every class\n",
        "        group=groups.get_group(label)  # a dataframe holding only rows with the specified label\n",
        "        sample_count=len(group)   # determine how many samples there are in this class\n",
        "        if sample_count< n: # if the class has less than target number of images\n",
        "            aug_img_count=0\n",
        "            delta=n - sample_count  # number of augmented images to create\n",
        "            target_dir=os.path.join(aug_dir, label)  # define where to write the images\n",
        "            msg='{0:40s} for class {1:^30s} creating {2:^5s} augmented images'.format(' ', label, str(delta))\n",
        "            print(msg, '\\r', end='') # prints over on the same line\n",
        "            aug_gen=gen.flow_from_dataframe( group,  x_col='filepaths', y_col=None, target_size=img_size,\n",
        "                                            class_mode=None, batch_size=1, shuffle=False,\n",
        "                                            save_to_dir=target_dir, save_prefix='aug-', color_mode='rgb',\n",
        "                                            save_format='jpg')\n",
        "            while aug_img_count<delta:\n",
        "                images=next(aug_gen)\n",
        "                aug_img_count += len(images)\n",
        "            total +=aug_img_count\n",
        "    print('Total Augmented images created= ', total)\n",
        "    # create aug_df and merge with train_df to create composite training set ndf\n",
        "    aug_fpaths=[]\n",
        "    aug_labels=[]\n",
        "    classlist=os.listdir(aug_dir)\n",
        "    for klass in classlist:\n",
        "        classpath=os.path.join(aug_dir, klass)\n",
        "        flist=os.listdir(classpath)\n",
        "        for f in flist:\n",
        "            fpath=os.path.join(classpath,f)\n",
        "            aug_fpaths.append(fpath)\n",
        "            aug_labels.append(klass)\n",
        "    Fseries=pd.Series(aug_fpaths, name='filepaths')\n",
        "    Lseries=pd.Series(aug_labels, name='labels')\n",
        "    aug_df=pd.concat([Fseries, Lseries], axis=1)\n",
        "    df=pd.concat([df,aug_df], axis=0).reset_index(drop=True)\n",
        "    print('Length of augmented dataframe is now ', len(df))\n",
        "    return df\n",
        "\n",
        "n=2500 # number of samples in each class\n",
        "working_dir=r'./' # directory to store augmented images\n",
        "img_size=(224,224) # size of augmented images\n",
        "train_df=balance(train_df, n, working_dir, img_size)"
      ]
    },
    {
      "cell_type": "code",
      "execution_count": null,
      "metadata": {
        "id": "fY82BcDaNsV2"
      },
      "outputs": [],
      "source": [
        "class LR_ASK(keras.callbacks.Callback):\n",
        "    def __init__ (self, model, epochs,  ask_epoch): # initialization of the callback\n",
        "        super(LR_ASK, self).__init__()\n",
        "        self.model=model\n",
        "        self.ask_epoch=ask_epoch\n",
        "        self.epochs=epochs\n",
        "        self.ask=True # if True query the user on a specified epoch\n",
        "        self.lowest_vloss=np.inf\n",
        "        self.best_weights=self.model.get_weights() # set best weights to model's initial weights\n",
        "        self.best_epoch=1\n",
        "\n",
        "\n",
        "    def on_train_begin(self, logs=None): # this runs on the beginning of training\n",
        "        if self.ask_epoch == 0:\n",
        "            print('you set ask_epoch = 0, ask_epoch will be set to 1', flush=True)\n",
        "            self.ask_epoch=1\n",
        "        if self.ask_epoch >= self.epochs: # you are running for epochs but ask_epoch>epochs\n",
        "            print('ask_epoch >= epochs, will train for ', epochs, ' epochs', flush=True)\n",
        "            self.ask=False # do not query the user\n",
        "        if self.epochs == 1:\n",
        "            self.ask=False # running only for 1 epoch so do not query user\n",
        "        else:\n",
        "            print('Training will proceed until epoch', ask_epoch,' then you will be asked to')\n",
        "            print(' enter H to halt training or enter an integer for how many more epochs to run then be asked again')\n",
        "        self.start_time= time.time() # set the time at which training started\n",
        "\n",
        "    def on_train_end(self, logs=None):   # runs at the end of training\n",
        "        print('loading model with weights from epoch ', self.best_epoch)\n",
        "        self.model.set_weights(self.best_weights) # set the weights of the model to the best weights\n",
        "        tr_duration=time.time() - self.start_time   # determine how long the training cycle lasted\n",
        "        hours = tr_duration // 3600\n",
        "        minutes = (tr_duration - (hours * 3600)) // 60\n",
        "        seconds = tr_duration - ((hours * 3600) + (minutes * 60))\n",
        "        msg = f'training elapsed time was {str(hours)} hours, {minutes:4.1f} minutes, {seconds:4.2f} seconds)'\n",
        "        print (msg, flush=True) # print out training duration time\n",
        "\n",
        "    def on_epoch_end(self, epoch, logs=None):  # method runs on the end of each epoch\n",
        "        v_loss=logs.get('val_loss')  # get the validation loss for this epoch\n",
        "        if v_loss< self.lowest_vloss:\n",
        "            self.lowest_vloss=v_loss\n",
        "            self.best_weights=self.model.get_weights() # set best weights to model's initial weights\n",
        "            self.best_epoch=epoch + 1\n",
        "            print (f'\\n validation loss of {v_loss:7.4f} is below lowest loss, saving weights from epoch {str(epoch + 1):3s} as best weights')\n",
        "        else:\n",
        "            print (f'\\n validation loss of {v_loss:7.4f} is above lowest loss of {self.lowest_vloss:7.4f} keeping weights from epoch {str(self.best_epoch)} as best weights')\n",
        "\n",
        "        if self.ask: # are the conditions right to query the user?\n",
        "            if epoch + 1 ==self.ask_epoch: # is this epoch the one for quering the user?\n",
        "                print('\\n Enter H to end training or  an integer for the number of additional epochs to run then ask again')\n",
        "                ans=input()\n",
        "\n",
        "                if ans == 'H' or ans =='h' or ans == '0': # quit training for these conditions\n",
        "                    print ('you entered ', ans, ' Training halted on epoch ', epoch+1, ' due to user input\\n', flush=True)\n",
        "                    self.model.stop_training = True # halt training\n",
        "                else: # user wants to continue training\n",
        "                    self.ask_epoch += int(ans)\n",
        "                    if self.ask_epoch > self.epochs:\n",
        "                        print('\\nYou specified maximum epochs of as ', self.epochs, ' cannot train for ', self.ask_epoch, flush =True)\n",
        "                    else:\n",
        "                        print ('you entered ', ans, ' Training will continue to epoch ', self.ask_epoch, flush=True)\n",
        "                        lr=float(tf.keras.backend.get_value(self.model.optimizer.lr)) # get the current learning rate\n",
        "                        print(f'current LR is  {lr:7.5f}  hit enter to keep  this LR or enter a new LR')\n",
        "                        ans=input(' ')\n",
        "                        if ans =='':\n",
        "                            print (f'keeping current LR of {lr:7.5f}')\n",
        "                        else:\n",
        "                            new_lr=float(ans)\n",
        "                            tf.keras.backend.set_value(self.model.optimizer.lr, new_lr) # set the learning rate in the optimizer\n",
        "                            print(' changing LR to ', ans)"
      ]
    },
    {
      "cell_type": "code",
      "execution_count": null,
      "metadata": {
        "colab": {
          "base_uri": "https://localhost:8080/"
        },
        "id": "v1wMKO4sNuKX",
        "outputId": "1e65ff36-7504-46e6-e72e-89cd2be944af"
      },
      "outputs": [
        {
          "name": "stdout",
          "output_type": "stream",
          "text": [
            "Found 7500 validated image filenames belonging to 3 classes.\n",
            "Found 461 validated image filenames belonging to 3 classes.\n",
            "Found 913 validated image filenames belonging to 3 classes.\n",
            "test batch size:  11   test steps:  83  number of classes :  3\n"
          ]
        }
      ],
      "source": [
        "batch_size=32\n",
        "trgen=ImageDataGenerator(horizontal_flip=True,rotation_range=20 )\n",
        "t_and_v_gen=ImageDataGenerator()\n",
        "msg='{0:70s} for train generator'.format(' ')\n",
        "print(msg, '\\r', end='') # prints over on the same line\n",
        "train_gen=trgen.flow_from_dataframe(train_df, x_col='filepaths', y_col='labels', target_size=img_size,\n",
        "                                   class_mode='categorical', color_mode='rgb', shuffle=True, batch_size=batch_size)\n",
        "msg='{0:70s} for valid generator'.format(' ')\n",
        "print(msg, '\\r', end='') # prints over on the same line\n",
        "valid_gen = t_and_v_gen.flow_from_dataframe(valid_df, x_col='filepaths', y_col='labels', target_size=img_size,\n",
        "                                       class_mode='categorical', color_mode='rgb', shuffle=False, batch_size=batch_size)\n",
        "# for the test_gen we want to calculate the batch size and test steps such that batch_size X test_steps= number of samples in test set\n",
        "# this insures that we go through all the sample in the test set exactly once.\n",
        "length=len(test_df)\n",
        "test_batch_size=sorted([int(length/n) for n in range(1,length+1) if length % n ==0 and length/n<=80],reverse=True)[0]\n",
        "test_steps=int(length/test_batch_size)\n",
        "msg='{0:70s} for test generator'.format(' ')\n",
        "print(msg, '\\r', end='') # prints over on the same line\n",
        "test_gen=t_and_v_gen.flow_from_dataframe(test_df, x_col='filepaths', y_col='labels', target_size=img_size,\n",
        "                                   class_mode='categorical', color_mode='rgb', shuffle=False, batch_size=test_batch_size)\n",
        "# from the generator we can get information we will need later\n",
        "classes=list(train_gen.class_indices.keys())\n",
        "class_indices=list(train_gen.class_indices.values())\n",
        "class_count=len(classes)\n",
        "labels=test_gen.labels\n",
        "print ( 'test batch size: ' ,test_batch_size, '  test steps: ', test_steps, ' number of classes : ', class_count)"
      ]
    },
    {
      "cell_type": "code",
      "execution_count": null,
      "metadata": {
        "id": "P2D9_ODzNw8e"
      },
      "outputs": [],
      "source": [
        "def show_image_samples(gen ):\n",
        "    t_dict=gen.class_indices\n",
        "    classes=list(t_dict.keys())\n",
        "    images,labels=next(gen) # get a sample batch from the generator\n",
        "    plt.figure(figsize=(20, 20))\n",
        "    length=len(labels)\n",
        "    if length<25:   #show maximum of 25 images\n",
        "        r=length\n",
        "    else:\n",
        "        r=25\n",
        "    for i in range(r):\n",
        "        plt.subplot(5, 5, i + 1)\n",
        "        image=images[i] /255\n",
        "        plt.imshow(image)\n",
        "        index=np.argmax(labels[i])\n",
        "        class_name=classes[index]\n",
        "        plt.title(class_name, color='blue', fontsize=14)\n",
        "        plt.axis('off')\n",
        "    plt.show()\n",
        "\n",
        "show_image_samples(train_gen )"
      ]
    },
    {
      "cell_type": "markdown",
      "metadata": {
        "id": "SFxMEh0HOEUu"
      },
      "source": [
        "# **Xception**"
      ]
    },
    {
      "cell_type": "code",
      "execution_count": null,
      "metadata": {
        "colab": {
          "base_uri": "https://localhost:8080/"
        },
        "id": "O3Tkvr_7Pprm",
        "outputId": "a284bc4d-8ac6-43bf-ef14-3d2e5e37e411"
      },
      "outputs": [
        {
          "name": "stdout",
          "output_type": "stream",
          "text": [
            "Requirement already satisfied: pydot in /usr/local/lib/python3.10/dist-packages (1.4.2)\n",
            "Requirement already satisfied: pyparsing>=2.1.4 in /usr/local/lib/python3.10/dist-packages (from pydot) (3.1.2)\n",
            "Requirement already satisfied: graphviz in /usr/local/lib/python3.10/dist-packages (0.20.3)\n"
          ]
        }
      ],
      "source": [
        "!pip install pydot\n",
        "!pip install graphviz\n",
        "# Import the necessary module\n",
        "from keras.utils import plot_model"
      ]
    },
    {
      "cell_type": "code",
      "execution_count": null,
      "metadata": {
        "id": "RaiZs43lOY1u"
      },
      "outputs": [],
      "source": [
        "K.clear_session() #clear the session\n",
        "tf.compat.v1.reset_default_graph()\n",
        "img_shape=(img_size[0], img_size[1], 3)\n",
        "model_name='xception'\n",
        "base_model=tf.keras.applications.Xception(include_top=False, weights=\"imagenet\",input_shape=img_shape, pooling='max')\n",
        "\n",
        "base_model.trainable=True\n",
        "x=base_model.output\n",
        "x=BatchNormalization(axis=-1, momentum=0.99, epsilon=0.001 )(x)\n",
        "x = Dense(256, kernel_regularizer = regularizers.l2(l = 0.016),activity_regularizer=regularizers.l1(0.006),\n",
        "                bias_regularizer=regularizers.l1(0.006) ,activation='relu')(x)\n",
        "x=Dropout(rate=.4, seed=123)(x)\n",
        "output=Dense(class_count, activation='softmax')(x)\n",
        "model=Model(inputs=base_model.input, outputs=output)\n",
        "lr=.001 # start with this learning rate\n",
        "model.compile(Adamax(learning_rate=lr), loss='categorical_crossentropy', metrics=['accuracy'])"
      ]
    },
    {
      "cell_type": "code",
      "execution_count": null,
      "metadata": {
        "id": "Q2oo2_3dObvI"
      },
      "outputs": [],
      "source": [
        "epochs=30\n",
        "ask_epoch=10\n",
        "ask=LR_ASK(model, epochs,  ask_epoch)\n",
        "rlronp=tf.keras.callbacks.ReduceLROnPlateau(monitor=\"val_loss\", factor=0.5, patience=2,verbose=1)\n",
        "callbacks=[rlronp, ask]\n",
        "callbacks=[ask]"
      ]
    },
    {
      "cell_type": "code",
      "execution_count": null,
      "metadata": {
        "id": "aZfnBlwDThyP"
      },
      "outputs": [],
      "source": [
        "history=model.fit(x=train_gen,  epochs=epochs, verbose=0, callbacks=callbacks,  validation_data=valid_gen,\n",
        "               validation_steps=None,  shuffle=False,  initial_epoch=0)"
      ]
    },
    {
      "cell_type": "code",
      "execution_count": null,
      "metadata": {
        "id": "9zy4U_VkT3Br"
      },
      "outputs": [],
      "source": [
        "def tr_plot(tr_data, start_epoch):\n",
        "    #Plot the training and validation data\n",
        "    tacc=tr_data.history['accuracy']\n",
        "    tloss=tr_data.history['loss']\n",
        "    vacc=tr_data.history['val_accuracy']\n",
        "    vloss=tr_data.history['val_loss']\n",
        "    Epoch_count=len(tacc)+ start_epoch\n",
        "    Epochs=[]\n",
        "    for i in range (start_epoch ,Epoch_count):\n",
        "        Epochs.append(i+1)\n",
        "    index_loss=np.argmin(vloss)#  this is the epoch with the lowest validation loss\n",
        "    val_lowest=vloss[index_loss]\n",
        "    index_acc=np.argmax(vacc)\n",
        "    acc_highest=vacc[index_acc]\n",
        "    plt.style.use('fivethirtyeight')\n",
        "    sc_label='best epoch= '+ str(index_loss+1 +start_epoch)\n",
        "    vc_label='best epoch= '+ str(index_acc + 1+ start_epoch)\n",
        "    fig,axes=plt.subplots(nrows=1, ncols=2, figsize=(20,8))\n",
        "    axes[0].plot(Epochs,tloss, 'r', label='Training loss')\n",
        "    axes[0].plot(Epochs,vloss,'g',label='Validation loss' )\n",
        "    axes[0].scatter(index_loss+1 +start_epoch,val_lowest, s=150, c= 'blue', label=sc_label)\n",
        "    axes[0].set_title('Training and Validation Loss')\n",
        "    axes[0].set_xlabel('Epochs')\n",
        "    axes[0].set_ylabel('Loss')\n",
        "    axes[0].legend()\n",
        "    axes[1].plot (Epochs,tacc,'r',label= 'Training Accuracy')\n",
        "    axes[1].plot (Epochs,vacc,'g',label= 'Validation Accuracy')\n",
        "    axes[1].scatter(index_acc+1 +start_epoch,acc_highest, s=150, c= 'blue', label=vc_label)\n",
        "    axes[1].set_title('Training and Validation Accuracy')\n",
        "    axes[1].set_xlabel('Epochs')\n",
        "    axes[1].set_ylabel('Accuracy')\n",
        "    axes[1].legend()\n",
        "    plt.tight_layout\n",
        "    plt.show()\n",
        "\n",
        "tr_plot(history,0)"
      ]
    },
    {
      "cell_type": "code",
      "execution_count": null,
      "metadata": {
        "id": "4jcs1qkORkNX"
      },
      "outputs": [],
      "source": [
        "# Load your model\n",
        "from tensorflow.keras.models import load_model\n",
        "from sklearn.metrics import classification_report, confusion_matrix\n",
        "model = load_model('/content/drive/MyDrive/Knee_Osteoarthritis_Model/Xception_ThreeClass.h5')  # Update with actual model path\n"
      ]
    },
    {
      "cell_type": "code",
      "execution_count": null,
      "metadata": {
        "colab": {
          "base_uri": "https://localhost:8080/",
          "height": 706
        },
        "id": "4Rinpq2bbH9w",
        "outputId": "1abde35e-997a-413a-9939-31dca502bc02"
      },
      "outputs": [
        {
          "data": {
            "image/png": "[encoded data removed]",
            "text/plain": [
              "<Figure size 1000x800 with 1 Axes>"
            ]
          },
          "metadata": {},
          "output_type": "display_data"
        }
      ],
      "source": [
        "\n",
        "def predictor(test_gen, test_steps):\n",
        "    y_pred_probs = []  # Store probabilities for ROC curve\n",
        "    y_pred= []\n",
        "    y_true=test_gen.labels\n",
        "    classes=list(test_gen.class_indices.keys())\n",
        "    class_count=len(classes)\n",
        "    errors=0\n",
        "    preds=model.predict(test_gen, verbose=1)\n",
        "    tests=len(preds)\n",
        "    for i, p in enumerate(preds):\n",
        "        pred_index=np.argmax(p)\n",
        "        y_pred_probs.append(p)  # Store probabilities\n",
        "        true_index=test_gen.labels[i]  # labels are integer values\n",
        "        if pred_index != true_index: # a misclassification has occurred\n",
        "            errors=errors + 1\n",
        "            file=test_gen.filenames[i]\n",
        "        y_pred.append(pred_index)\n",
        "\n",
        "    acc=( 1-errors/tests) * 100\n",
        "    print(f'there were {errors} errors in {tests} tests for an accuracy of {acc:6.2f}')\n",
        "    ypred=np.array(y_pred)\n",
        "    ytrue=np.array(y_true)\n",
        "    if class_count <=30:\n",
        "        cm = confusion_matrix(ytrue, ypred )\n",
        "        # plot the confusion matrix\n",
        "        plt.figure(figsize=(10, 8))\n",
        "        sns.heatmap(cm, annot=True, vmin=0, fmt='g', cmap='BuPu', cbar=False, annot_kws={\"size\": 20})\n",
        "        plt.xticks(np.arange(class_count)+.5, classes, rotation=0, fontsize=15)\n",
        "        plt.yticks(np.arange(class_count)+.5, classes, rotation=90, fontsize=15)\n",
        "        plt.xlabel(\"Predicted\",fontsize=12)\n",
        "        plt.ylabel(\"Actual\", fontsize=15)\n",
        "        # plt.title(\"Confusion Matrix\")\n",
        "        plt.show()\n",
        "\n",
        "errors, tests, y_pred_probs = predictor(test_gen, test_steps)  # Get probabilities\n"
      ]
    },
    {
      "cell_type": "code",
      "execution_count": 2,
      "metadata": {
        "colab": {
          "base_uri": "https://localhost:8080/",
          "height": 564
        },
        "id": "hLS5vTpsjJ9S",
        "outputId": "bb69b551-65d5-4643-dc11-ce90a8970ae4"
      },
      "outputs": [
        {
          "data": {
            "image/png": "[encoded data removed]",
            "text/plain": [
              "<Figure size 1000x800 with 1 Axes>"
            ]
          },
          "metadata": {},
          "output_type": "display_data"
        }
      ],
      "source": [
        "import matplotlib.pyplot as plt\n",
        "from sklearn.metrics import roc_curve, roc_auc_score\n",
        "from sklearn.preprocessing import label_binarize\n",
        "\n",
        "# Binarize the labels for multi-class ROC curve\n",
        "y_true_bin = label_binarize(test_gen.labels, classes=list(range(class_count)))\n",
        "y_pred_prob = y_pred_probs  # Convert y_pred to a numpy array\n",
        "\n",
        "# Compute ROC curve and ROC area for each class\n",
        "fpr = dict()\n",
        "tpr = dict()\n",
        "roc_auc = dict()\n",
        "for i in range(class_count):\n",
        "    fpr[i], tpr[i], _ = roc_curve(y_true_bin[:, i], y_pred_prob[:, i])\n",
        "    roc_auc[i] = roc_auc_score(y_true_bin[:, i], y_pred_prob[:, i])\n",
        "\n",
        "# Plot ROC curve for each class\n",
        "plt.figure(figsize=(10, 8))\n",
        "for i in range(class_count):\n",
        "    plt.plot(fpr[i], tpr[i], label=f'Class {list_of_classes[i]} (area = {roc_auc[i]:0.2f})')\n",
        "\n",
        "plt.plot([0, 1], [0, 1], 'k--', label='Random guess (area = 0.50)')\n",
        "plt.xlim([-0.05, 1.0])  # Adjust the x-axis limit to show more of the left side\n",
        "plt.ylim([0.0, 1.05])\n",
        "plt.xlabel('False Positive Rate')\n",
        "plt.ylabel('True Positive Rate')\n",
        "plt.legend(loc=\"lower right\")\n",
        "plt.show()\n"
      ]
    },
    {
      "cell_type": "code",
      "execution_count": null,
      "metadata": {
        "id": "IXkJCvmPanyA"
      },
      "outputs": [],
      "source": [
        "# Save the model\n",
        "model_save_path = '/content/drive/MyDrive/Knee_Osteoarthritis_Model/Xception_ThreeClass.h5'\n",
        "model.save(model_save_path)\n",
        "print(f\"Model saved to {model_save_path}\")"
      ]
    },
    {
      "cell_type": "markdown",
      "metadata": {
        "id": "XkcZVaAzJpMi"
      },
      "source": [
        "# ***KOA Diagnosis***"
      ]
    },
    {
      "cell_type": "code",
      "execution_count": null,
      "metadata": {
        "colab": {
          "base_uri": "https://localhost:8080/"
        },
        "id": "uKVC8uOQJwBo",
        "outputId": "4a593a33-14a9-4cf1-f8a7-bc03b33be1e4"
      },
      "outputs": [
        {
          "name": "stdout",
          "output_type": "stream",
          "text": [
            "train_df length:  5778   test_df length:  1656   valid_df length:  826\n",
            "The number of classes in the dataset is:  2\n",
            "            CLASS               IMAGE COUNT \n",
            "         KOA-Negative              3332     \n",
            "         KOA-Positive              2446     \n",
            "KOA-Negative  has the most images=  3332   KOA-Positive  has the least images=  2446\n"
          ]
        }
      ],
      "source": [
        "train_path=r'/content/drive/MyDrive/Knee_Osteoarthritis_Dataset_Preprocessed/train'\n",
        "test_path=r'/content/drive/MyDrive/Knee_Osteoarthritis_Dataset_Preprocessed/test'\n",
        "valid_path=r'/content/drive/MyDrive/Knee_Osteoarthritis_Dataset_Preprocessed/validation'\n",
        "list_of_classes = ['Healthy', 'Doubtful', 'Minimal', 'Moderate', 'Severe']\n",
        "\n",
        "# Define the mapping\n",
        "class_mapping = {\n",
        "    'Healthy': 'KOA-Negative',\n",
        "    'Doubtful': 'KOA-Negative',\n",
        "    'Minimal': 'KOA-Positive',\n",
        "    'Moderate': 'KOA-Positive',\n",
        "    'Severe': 'KOA-Positive'\n",
        "}\n",
        "\n",
        "# Function to create dataframe\n",
        "def create_dataframe(path, class_mapping, list_of_classes):\n",
        "    filepaths = []\n",
        "    labels = []\n",
        "    classlist = os.listdir(path)\n",
        "    for klass in classlist:\n",
        "        intklass = int(klass)\n",
        "        label = list_of_classes[intklass]\n",
        "        classpath = os.path.join(path, klass)\n",
        "        flist = os.listdir(classpath)\n",
        "        for f in flist:\n",
        "            fpath = os.path.join(classpath, f)\n",
        "            filepaths.append(fpath)\n",
        "            labels.append(class_mapping[label])  # Apply the mapping here\n",
        "    Fseries = pd.Series(filepaths, name='filepaths')\n",
        "    Lseries = pd.Series(labels, name='labels')\n",
        "    pdf = pd.concat([Fseries, Lseries], axis=1)\n",
        "    return pdf\n",
        "\n",
        "# Create the dataframes\n",
        "train_df = create_dataframe(train_path, class_mapping, list_of_classes)\n",
        "test_df = create_dataframe(test_path, class_mapping, list_of_classes)\n",
        "valid_df = create_dataframe(valid_path, class_mapping, list_of_classes)\n",
        "\n",
        "print('train_df length: ', len(train_df), '  test_df length: ', len(test_df), '  valid_df length: ', len(valid_df))\n",
        "\n",
        "# Get the number of classes and the images count for each class in train_df\n",
        "classes = sorted(list(train_df['labels'].unique()))\n",
        "class_count = len(classes)\n",
        "print('The number of classes in the dataset is: ', class_count)\n",
        "\n",
        "groups = train_df.groupby('labels')\n",
        "print('{0:^30s} {1:^13s}'.format('CLASS', 'IMAGE COUNT'))\n",
        "countlist = []\n",
        "classlist = []\n",
        "for label in sorted(list(train_df['labels'].unique())):\n",
        "    group = groups.get_group(label)\n",
        "    countlist.append(len(group))\n",
        "    classlist.append(label)\n",
        "    print('{0:^30s} {1:^13s}'.format(label, str(len(group))))\n",
        "\n",
        "# Get the classes with the minimum and maximum number of train images\n",
        "max_value = np.max(countlist)\n",
        "max_index = countlist.index(max_value)\n",
        "max_class = classlist[max_index]\n",
        "min_value = np.min(countlist)\n",
        "min_index = countlist.index(min_value)\n",
        "min_class = classlist[min_index]\n",
        "print(max_class, ' has the most images= ', max_value, ' ', min_class, ' has the least images= ', min_value)\n",
        "\n"
      ]
    },
    {
      "cell_type": "code",
      "execution_count": null,
      "metadata": {
        "colab": {
          "base_uri": "https://localhost:8080/"
        },
        "id": "9g1cPc3nJwrL",
        "outputId": "096d8700-f394-45ab-f486-ca4e0c858d19"
      },
      "outputs": [
        {
          "name": "stdout",
          "output_type": "stream",
          "text": [
            "KOA-Negative 3332\n",
            "KOA-Positive 2446\n"
          ]
        }
      ],
      "source": [
        "# Re-calculate the total classes\n",
        "class_count = len(classlist)\n",
        "\n",
        "# Re-count the images per class\n",
        "groups = train_df.groupby('labels')\n",
        "for label in classes:\n",
        "    group = groups.get_group(label)\n",
        "    print(label, len(group))"
      ]
    },
    {
      "cell_type": "code",
      "execution_count": null,
      "metadata": {
        "colab": {
          "base_uri": "https://localhost:8080/"
        },
        "id": "avJGDtveJ0fS",
        "outputId": "70114528-6ed7-4119-df12-68e55e94d04f"
      },
      "outputs": [
        {
          "name": "stdout",
          "output_type": "stream",
          "text": [
            "Initial length of dataframe is  5778\n",
            "Found 3332 validated image filenames.\n",
            "Found 2446 validated image filenames.\n",
            "Total Augmented images created=  1222\n",
            "Length of augmented dataframe is now  7000\n"
          ]
        }
      ],
      "source": [
        "def balance(df, n, working_dir, img_size):\n",
        "    df=df.copy()\n",
        "    print('Initial length of dataframe is ', len(df))\n",
        "    aug_dir=os.path.join(working_dir, 'aug')# directory to store augmented images\n",
        "    if os.path.isdir(aug_dir):# start with an empty directory\n",
        "        shutil.rmtree(aug_dir)\n",
        "    os.mkdir(aug_dir)\n",
        "    for label in df['labels'].unique():\n",
        "        dir_path=os.path.join(aug_dir,label)\n",
        "        os.mkdir(dir_path) # make class directories within aug directory\n",
        "    # create and store the augmented images\n",
        "    total=0\n",
        "    gen=ImageDataGenerator(horizontal_flip=True,  rotation_range=20, width_shift_range=.2,\n",
        "                                  height_shift_range=.2, zoom_range=.2)\n",
        "    groups=df.groupby('labels') # group by class\n",
        "    for label in df['labels'].unique():  # for every class\n",
        "        group=groups.get_group(label)  # a dataframe holding only rows with the specified label\n",
        "        sample_count=len(group)   # determine how many samples there are in this class\n",
        "        if sample_count< n: # if the class has less than target number of images\n",
        "            aug_img_count=0\n",
        "            delta=n - sample_count  # number of augmented images to create\n",
        "            target_dir=os.path.join(aug_dir, label)  # define where to write the images\n",
        "            msg='{0:40s} for class {1:^30s} creating {2:^5s} augmented images'.format(' ', label, str(delta))\n",
        "            print(msg, '\\r', end='') # prints over on the same line\n",
        "            aug_gen=gen.flow_from_dataframe( group,  x_col='filepaths', y_col=None, target_size=img_size,\n",
        "                                            class_mode=None, batch_size=1, shuffle=False,\n",
        "                                            save_to_dir=target_dir, save_prefix='aug-', color_mode='rgb',\n",
        "                                            save_format='jpg')\n",
        "            while aug_img_count<delta:\n",
        "                images=next(aug_gen)\n",
        "                aug_img_count += len(images)\n",
        "            total +=aug_img_count\n",
        "    print('Total Augmented images created= ', total)\n",
        "    # create aug_df and merge with train_df to create composite training set ndf\n",
        "    aug_fpaths=[]\n",
        "    aug_labels=[]\n",
        "    classlist=os.listdir(aug_dir)\n",
        "    for klass in classlist:\n",
        "        classpath=os.path.join(aug_dir, klass)\n",
        "        flist=os.listdir(classpath)\n",
        "        for f in flist:\n",
        "            fpath=os.path.join(classpath,f)\n",
        "            aug_fpaths.append(fpath)\n",
        "            aug_labels.append(klass)\n",
        "    Fseries=pd.Series(aug_fpaths, name='filepaths')\n",
        "    Lseries=pd.Series(aug_labels, name='labels')\n",
        "    aug_df=pd.concat([Fseries, Lseries], axis=1)\n",
        "    df=pd.concat([df,aug_df], axis=0).reset_index(drop=True)\n",
        "    print('Length of augmented dataframe is now ', len(df))\n",
        "    return df\n",
        "\n",
        "n=3500 # number of samples in each class\n",
        "working_dir=r'./' # directory to store augmented images\n",
        "img_size=(224,224) # size of augmented images\n",
        "train_df=balance(train_df, n, working_dir, img_size)"
      ]
    },
    {
      "cell_type": "code",
      "execution_count": null,
      "metadata": {
        "colab": {
          "base_uri": "https://localhost:8080/"
        },
        "id": "xB4e25yfJ43Q",
        "outputId": "d0ced2bf-bfea-4102-d338-bc41abd20daf"
      },
      "outputs": [
        {
          "name": "stdout",
          "output_type": "stream",
          "text": [
            "Found 7000 validated image filenames belonging to 2 classes.\n",
            "Found 826 validated image filenames belonging to 2 classes.\n",
            "Found 1656 validated image filenames belonging to 2 classes.\n",
            "test batch size:  72   test steps:  23  number of classes :  2\n"
          ]
        }
      ],
      "source": [
        "batch_size=32\n",
        "trgen=ImageDataGenerator(horizontal_flip=True,rotation_range=20 )\n",
        "t_and_v_gen=ImageDataGenerator()\n",
        "msg='{0:70s} for train generator'.format(' ')\n",
        "print(msg, '\\r', end='') # prints over on the same line\n",
        "train_gen=trgen.flow_from_dataframe(train_df, x_col='filepaths', y_col='labels', target_size=img_size,\n",
        "                                   class_mode='categorical', color_mode='rgb', shuffle=True, batch_size=batch_size)\n",
        "msg='{0:70s} for valid generator'.format(' ')\n",
        "print(msg, '\\r', end='') # prints over on the same line\n",
        "valid_gen = t_and_v_gen.flow_from_dataframe(valid_df, x_col='filepaths', y_col='labels', target_size=img_size,\n",
        "                                       class_mode='categorical', color_mode='rgb', shuffle=False, batch_size=batch_size)\n",
        "# for the test_gen we want to calculate the batch size and test steps such that batch_size X test_steps= number of samples in test set\n",
        "# this insures that we go through all the sample in the test set exactly once.\n",
        "length=len(test_df)\n",
        "test_batch_size=sorted([int(length/n) for n in range(1,length+1) if length % n ==0 and length/n<=80],reverse=True)[0]\n",
        "test_steps=int(length/test_batch_size)\n",
        "msg='{0:70s} for test generator'.format(' ')\n",
        "print(msg, '\\r', end='') # prints over on the same line\n",
        "test_gen=t_and_v_gen.flow_from_dataframe(test_df, x_col='filepaths', y_col='labels', target_size=img_size,\n",
        "                                   class_mode='categorical', color_mode='rgb', shuffle=False, batch_size=test_batch_size)\n",
        "# from the generator we can get information we will need later\n",
        "classes=list(train_gen.class_indices.keys())\n",
        "class_indices=list(train_gen.class_indices.values())\n",
        "class_count=len(classes)\n",
        "labels=test_gen.labels\n",
        "print ( 'test batch size: ' ,test_batch_size, '  test steps: ', test_steps, ' number of classes : ', class_count)"
      ]
    },
    {
      "cell_type": "code",
      "execution_count": null,
      "metadata": {
        "id": "R97nhAx1J6KB"
      },
      "outputs": [],
      "source": [
        "K.clear_session() #clear the session\n",
        "tf.compat.v1.reset_default_graph()\n",
        "img_shape=(img_size[0], img_size[1], 3)\n",
        "model_name='xception'\n",
        "base_model=tf.keras.applications.Xception(include_top=False, weights=\"imagenet\",input_shape=img_shape, pooling='max')\n",
        "\n",
        "base_model.trainable=True\n",
        "x=base_model.output\n",
        "x=BatchNormalization(axis=-1, momentum=0.99, epsilon=0.001 )(x)\n",
        "x = Dense(256, kernel_regularizer = regularizers.l2(l = 0.016),activity_regularizer=regularizers.l1(0.006),\n",
        "                bias_regularizer=regularizers.l1(0.006) ,activation='relu')(x)\n",
        "x=Dropout(rate=.4, seed=123)(x)\n",
        "output=Dense(class_count, activation='softmax')(x)\n",
        "model=Model(inputs=base_model.input, outputs=output)\n",
        "lr=.001 # start with this learning rate\n",
        "model.compile(Adamax(learning_rate=lr), loss='categorical_crossentropy', metrics=['accuracy'])"
      ]
    },
    {
      "cell_type": "code",
      "execution_count": null,
      "metadata": {
        "id": "lbz94ZP4J6YV"
      },
      "outputs": [],
      "source": [
        "epochs=40\n",
        "ask_epoch=15\n",
        "ask=LR_ASK(model, epochs,  ask_epoch)\n",
        "callbacks=[ask]"
      ]
    },
    {
      "cell_type": "code",
      "execution_count": null,
      "metadata": {
        "id": "6HCF1mzTJ-GZ"
      },
      "outputs": [],
      "source": [
        "history=model.fit(x=train_gen,  epochs=epochs, verbose=0, callbacks=callbacks,  validation_data=valid_gen,\n",
        "               validation_steps=None,  shuffle=False,  initial_epoch=0)"
      ]
    },
    {
      "cell_type": "code",
      "execution_count": null,
      "metadata": {
        "id": "0dT959uuKAFg"
      },
      "outputs": [],
      "source": [
        "def tr_plot(tr_data, start_epoch):\n",
        "    #Plot the training and validation data\n",
        "    tacc=tr_data.history['accuracy']\n",
        "    tloss=tr_data.history['loss']\n",
        "    vacc=tr_data.history['val_accuracy']\n",
        "    vloss=tr_data.history['val_loss']\n",
        "    Epoch_count=len(tacc)+ start_epoch\n",
        "    Epochs=[]\n",
        "    for i in range (start_epoch ,Epoch_count):\n",
        "        Epochs.append(i+1)\n",
        "    index_loss=np.argmin(vloss)#  this is the epoch with the lowest validation loss\n",
        "    val_lowest=vloss[index_loss]\n",
        "    index_acc=np.argmax(vacc)\n",
        "    acc_highest=vacc[index_acc]\n",
        "    plt.style.use('fivethirtyeight')\n",
        "    sc_label='best epoch= '+ str(index_loss+1 +start_epoch)\n",
        "    vc_label='best epoch= '+ str(index_acc + 1+ start_epoch)\n",
        "    fig,axes=plt.subplots(nrows=1, ncols=2, figsize=(20,8))\n",
        "    axes[0].plot(Epochs,tloss, 'r', label='Training loss')\n",
        "    axes[0].plot(Epochs,vloss,'g',label='Validation loss' )\n",
        "    axes[0].scatter(index_loss+1 +start_epoch,val_lowest, s=150, c= 'blue', label=sc_label)\n",
        "    axes[0].set_title('Training and Validation Loss')\n",
        "    axes[0].set_xlabel('Epochs')\n",
        "    axes[0].set_ylabel('Loss')\n",
        "    axes[0].legend()\n",
        "    axes[1].plot (Epochs,tacc,'r',label= 'Training Accuracy')\n",
        "    axes[1].plot (Epochs,vacc,'g',label= 'Validation Accuracy')\n",
        "    axes[1].scatter(index_acc+1 +start_epoch,acc_highest, s=150, c= 'blue', label=vc_label)\n",
        "    axes[1].set_title('Training and Validation Accuracy')\n",
        "    axes[1].set_xlabel('Epochs')\n",
        "    axes[1].set_ylabel('Accuracy')\n",
        "    axes[1].legend()\n",
        "    plt.tight_layout\n",
        "    plt.show()\n",
        "\n",
        "tr_plot(history,0)"
      ]
    },
    {
      "cell_type": "code",
      "execution_count": null,
      "metadata": {
        "colab": {
          "base_uri": "https://localhost:8080/"
        },
        "id": "gk4FxM1SKAqS",
        "outputId": "8a2c50cb-b651-4241-db4a-b2032d1e385a"
      },
      "outputs": [
        {
          "name": "stderr",
          "output_type": "stream",
          "text": [
            "/usr/local/lib/python3.10/dist-packages/keras/src/engine/training.py:3103: UserWarning: You are saving your model as an HDF5 file via `model.save()`. This file format is considered legacy. We recommend using instead the native Keras format, e.g. `model.save('my_model.keras')`.\n",
            "  saving_api.save_model(\n"
          ]
        },
        {
          "name": "stdout",
          "output_type": "stream",
          "text": [
            "Model saved to /content/drive/My Drive/Knee_Osteoarthritis_Model/Xception_Binary-Class.h5\n"
          ]
        }
      ],
      "source": [
        "# Save the model\n",
        "model_save_path = '/content/drive/My Drive/Knee_Osteoarthritis_Model/Xception_Binary-Class.h5'\n",
        "model.save(model_save_path)\n",
        "print(f\"Model saved to {model_save_path}\")"
      ]
    },
    {
      "cell_type": "code",
      "execution_count": null,
      "metadata": {
        "id": "3W_LWoC9YrPw"
      },
      "outputs": [],
      "source": [
        "# Load your model\n",
        "from tensorflow.keras.models import load_model\n",
        "from sklearn.metrics import classification_report, confusion_matrix\n",
        "model = load_model('/content/drive/MyDrive/Knee_Osteoarthritis_Model/Xception_Binary-Class.h5')  # Update with actual model path"
      ]
    },
    {
      "cell_type": "code",
      "execution_count": null,
      "metadata": {
        "colab": {
          "base_uri": "https://localhost:8080/",
          "height": 932
        },
        "id": "qO-mUVZbKC3D",
        "outputId": "8b92e8d6-997d-4b3d-e02f-9ab2a45a6655"
      },
      "outputs": [
        {
          "name": "stdout",
          "output_type": "stream",
          "text": [
            "23/23 [==============================] - 14s 556ms/step\n",
            "there were 254 errors in 1656 tests for an accuracy of  84.66\n"
          ]
        },
        {
          "data": {
            "image/png": "[encoded data removed]",
            "text/plain": [
              "<Figure size 1000x800 with 1 Axes>"
            ]
          },
          "metadata": {},
          "output_type": "display_data"
        },
        {
          "name": "stdout",
          "output_type": "stream",
          "text": [
            "Classification Report:\n",
            "----------------------\n",
            "               precision    recall  f1-score   support\n",
            "\n",
            "KOA-Negative     0.8580    0.8727    0.8653       935\n",
            "KOA-Positive     0.8312    0.8128    0.8219       721\n",
            "\n",
            "    accuracy                         0.8466      1656\n",
            "   macro avg     0.8446    0.8427    0.8436      1656\n",
            "weighted avg     0.8464    0.8466    0.8464      1656\n",
            "\n"
          ]
        }
      ],
      "source": [
        "\n",
        "def predictor(test_gen, test_steps):\n",
        "    y_pred_probs = []  # Store probabilities for ROC curve\n",
        "    y_pred= []\n",
        "    y_true=test_gen.labels\n",
        "    classes=list(test_gen.class_indices.keys())\n",
        "    class_count=len(classes)\n",
        "    errors=0\n",
        "    preds=model.predict(test_gen, verbose=1)\n",
        "    tests=len(preds)\n",
        "    for i, p in enumerate(preds):\n",
        "        pred_index=np.argmax(p)\n",
        "        y_pred_probs.append(p)  # Store probabilities\n",
        "        true_index=test_gen.labels[i]  # labels are integer values\n",
        "        if pred_index != true_index: # a misclassification has occurred\n",
        "            errors=errors + 1\n",
        "            file=test_gen.filenames[i]\n",
        "        y_pred.append(pred_index)\n",
        "\n",
        "    acc=( 1-errors/tests) * 100\n",
        "    print(f'there were {errors} errors in {tests} tests for an accuracy of {acc:6.2f}')\n",
        "    ypred=np.array(y_pred)\n",
        "    ytrue=np.array(y_true)\n",
        "    if class_count <=30:\n",
        "        cm = confusion_matrix(ytrue, ypred )\n",
        "        # plot the confusion matrix\n",
        "        plt.figure(figsize=(10, 8))\n",
        "        sns.heatmap(cm, annot=True, vmin=0, fmt='g', cmap='BuPu', cbar=False, annot_kws={\"size\": 20})\n",
        "        plt.xticks(np.arange(class_count)+.5, classes, rotation=0, fontsize=15)\n",
        "        plt.yticks(np.arange(class_count)+.5, classes, rotation=90, fontsize=15)\n",
        "        plt.xlabel(\"Predicted\", fontsize = 12)\n",
        "        plt.ylabel(\"Actual\", fontsize = 12)\n",
        "        # plt.title(\"Confusion Matrix\")\n",
        "        plt.show()\n",
        "    clr = classification_report(y_true, y_pred, target_names=classes, digits= 4) # create classification report\n",
        "    print(\"Classification Report:\\n----------------------\\n\", clr)\n",
        "    return errors, tests, np.array(y_pred_probs)  # Return probabilities\n",
        "\n",
        "errors, tests, y_pred_probs = predictor(test_gen, test_steps)  # Get probabilities\n"
      ]
    }
  ],
  "metadata": {
    "colab": {
      "provenance": []
    },
    "kernelspec": {
      "display_name": "Python 3",
      "name": "python3"
    },
    "language_info": {
      "name": "python"
    }
  },
  "nbformat": 4,
  "nbformat_minor": 0
}
